{
 "cells": [
  {
   "cell_type": "code",
   "execution_count": null,
   "id": "591031a4",
   "metadata": {},
   "outputs": [],
   "source": [
    "import numpy as np\n",
    "import matplotlib.pyplot as plt"
   ]
  },
  {
   "cell_type": "markdown",
   "id": "507aa9da",
   "metadata": {},
   "source": [
    "## Problem 1"
   ]
  },
  {
   "cell_type": "markdown",
   "id": "b3573759",
   "metadata": {},
   "source": [
    "### 1.a. Fill in the function ${{\\sf Game1}}$ and ${{\\sf Game2}}$\n",
    "  For $n \\in \\{100, 1000, 10000\\}$, run both ${{\\sf Game1}}$ and ${{\\sf Game2}}$"
   ]
  },
  {
   "cell_type": "code",
   "execution_count": null,
   "id": "994019bd",
   "metadata": {},
   "outputs": [],
   "source": [
    "def Game1(n):\n",
    "    \"\"\" \n",
    "    Simulates the first game\n",
    "    \n",
    "    Parameters\n",
    "    ---\n",
    "    - n (int): number of trials\n",
    "    \n",
    "    Outputs\n",
    "    ---\n",
    "    - prob_win (float): percentage of games won\n",
    "    \"\"\"   \n",
    "    ### YOUR CODE HERE\n",
    "    ### TODO: Find the percentage of games won in n trials of Game 1\n",
    "    \n",
    "    prob_win = ...\n",
    "    \n",
    "    return prob_win\n",
    "\n",
    "\n",
    "def Game2(n):\n",
    "    \"\"\" \n",
    "    Simulates the second game\n",
    "    \n",
    "    Parameters\n",
    "    ---\n",
    "    - n (int): number of trials\n",
    "    \n",
    "    Outputs\n",
    "    ---\n",
    "    - prob_win (float): percentage of games won\n",
    "    \"\"\"\n",
    "    ### YOUR CODE HERE\n",
    "    ### TODO: Find the percentage of games won in n trials of Game 2\n",
    "    \n",
    "    prob_win = ...\n",
    "\n",
    "    return prob_win"
   ]
  },
  {
   "cell_type": "markdown",
   "id": "3c489b00",
   "metadata": {},
   "source": [
    "### 1.b. Fill in the functions ${{\\sf TotalWinningsGame2}}$ and ${{\\sf TotalWinningsGame1}}$\n",
    "These functions simulate $n$ trials of the game and record the cumulative winnings."
   ]
  },
  {
   "cell_type": "code",
   "execution_count": null,
   "id": "e1e86c94",
   "metadata": {},
   "outputs": [],
   "source": [
    "def TotalWinningsGame1(n):\n",
    "    \"\"\" \n",
    "    Records cumulative winnings of the first game.\n",
    "    \n",
    "    Parameters\n",
    "    ---\n",
    "    - n (int): number of trials\n",
    "    \n",
    "    Outputs\n",
    "    ---\n",
    "    - winnings (list of ints): winnings[k] is total winnings up to time k\n",
    "    \"\"\"\n",
    "    ### YOUR CODE HERE\n",
    "    ### TODO: Return the cumulative winnings in n trials of Game 1.  In order to get the\n",
    "    ### total winnings, you will need to simulate the game again as in problem 1a. \n",
    "    \n",
    "    winnings = ...\n",
    "    \n",
    "    ### END YOUR CODE\n",
    "    return winnings\n",
    "\n",
    "\n",
    "def TotalWinningsGame2(n):\n",
    "    \"\"\" \n",
    "    Records cumulative winnings of the second game\n",
    "    \n",
    "    Parameters\n",
    "    ---\n",
    "    - n (int): number of trials\n",
    "    \n",
    "    Outputs\n",
    "    ---\n",
    "    - winnings (list of ints): winnings[k] is total winnings up to time k\n",
    "    \"\"\"\n",
    "    ### YOUR CODE HERE\n",
    "    ### TODO: Return the cumulative winnings in n trials of Game 2.  In order to get the\n",
    "    ### total winnings, you will need to simulate the game again as in problem 1a. \n",
    "    \n",
    "    winnings = ...\n",
    "    \n",
    "    ### END YOUR CODE\n",
    "    return winnings"
   ]
  },
  {
   "cell_type": "code",
   "execution_count": null,
   "id": "c1e22f54",
   "metadata": {},
   "outputs": [],
   "source": [
    "### Plot the results for game 1\n",
    "### YOUR CODE HERE"
   ]
  },
  {
   "cell_type": "code",
   "execution_count": null,
   "id": "3bbac815",
   "metadata": {},
   "outputs": [],
   "source": [
    "### Plot the results for game 2\n",
    "### YOUR CODE HERE"
   ]
  },
  {
   "cell_type": "markdown",
   "id": "360bb45d",
   "metadata": {},
   "source": [
    "## Problem 2"
   ]
  },
  {
   "cell_type": "markdown",
   "id": "db5e0d2f",
   "metadata": {},
   "source": [
    "### 2.a. Fill in the function ${{\\sf SimulateBirthdays}}$\n",
    "The function should run ${{\\sf num\\_trials}}$ number of trials of an experiment which generates $k$ birthdays at random and checks whether there is a collision among the $k$ birthdays.  Return the fraction of trials in which there was no collision."
   ]
  },
  {
   "cell_type": "code",
   "execution_count": null,
   "id": "163dbdda",
   "metadata": {},
   "outputs": [],
   "source": [
    "def SimulateBirthdays(k, num_trials=100):\n",
    "    \"\"\" \n",
    "    Simulates birthday problem.\n",
    "    \n",
    "    Parameters\n",
    "    ---\n",
    "    - k (int): The number of people\n",
    "    \n",
    "    Outputs\n",
    "    ---\n",
    "    - prob_col (float): The fraction of simulations (out of num_trials) in which there were no collisions\n",
    "    \n",
    "    >>> np.random.seed(23)\n",
    "    >>> simulate_birthdays(40, num_trials=5000)\n",
    "    0.104\n",
    "    \"\"\"\n",
    "    ### YOUR CODE HERE\n",
    "    ### TODO: Find the percentage of simulations without collisions.  Remember that each \n",
    "    ### person is equally likely to have a birthday on any day.  You may find the function \n",
    "    ### np.unique useful.  \n",
    "    \n",
    "    prob_win = ...\n",
    "    \n",
    "    ### END YOUR CODE\n",
    "    return prob_win"
   ]
  },
  {
   "cell_type": "markdown",
   "id": "60329817",
   "metadata": {},
   "source": [
    "### 2.b. Fill in the function ${{\\sf ProbabilityNoCollision}}$ \n",
    "which computes the probability that with $k$ people and $d$ possible days, none of them have the same birthday."
   ]
  },
  {
   "cell_type": "code",
   "execution_count": null,
   "id": "6ed8da0b",
   "metadata": {},
   "outputs": [],
   "source": [
    "def ProbabilityNoCollision(k, d=365):\n",
    "    \"\"\" \n",
    "    Computes the exact probability of no-collision.\n",
    "    \n",
    "    Parameters\n",
    "    ---\n",
    "    - k (int): The number of people\n",
    "    - d (int): The number of days\n",
    "    \n",
    "    Outputs\n",
    "    ---\n",
    "    - prob_no_col (float): the probability none of the k people have the same birthday\n",
    "    \n",
    "    >>> probability_no_collision(30)\n",
    "    0.2936837572807313\n",
    "    >>> probability_no_collision(100)\n",
    "    3.0724892785157736e-07\n",
    "    \"\"\"\n",
    "    ### YOUR CODE HERE\n",
    "    ### TODO: Find the probability of no-collision.  You may find the function\n",
    "    ### np.math.factorial useful.\n",
    "    \n",
    "    prob_no_col = ...\n",
    "    \n",
    "    ### END YOUR CODE\n",
    "    return prob_no_col"
   ]
  },
  {
   "cell_type": "markdown",
   "id": "cb8a6c20",
   "metadata": {},
   "source": [
    "### 2.c. Plot the results\n"
   ]
  },
  {
   "cell_type": "code",
   "execution_count": null,
   "id": "696ded85",
   "metadata": {},
   "outputs": [],
   "source": [
    "### YOUR CODE HERE"
   ]
  },
  {
   "cell_type": "markdown",
   "id": "e577b15b",
   "metadata": {},
   "source": [
    "## Problem 3"
   ]
  },
  {
   "cell_type": "markdown",
   "id": "00ceed29",
   "metadata": {},
   "source": [
    "### 3.d. Fill in the function $\\mathsf{SimulateError}$\n",
    "which draws $n=500,000$ samples from the distribution $\\text{Exp}(\\lambda)$  and computes, for each sample, both the integer part as well as the error."
   ]
  },
  {
   "cell_type": "code",
   "execution_count": null,
   "id": "4aaab91e",
   "metadata": {},
   "outputs": [],
   "source": [
    "def SimulateError(lam, num_trials=500000):\n",
    "    \"\"\"\n",
    "    Simulates the quantizer.\n",
    "\n",
    "    Parameters\n",
    "    ---\n",
    "    lam: rate of the exponential random variables\n",
    "    num_trials: number of samples to draw\n",
    "\n",
    "    Outputs\n",
    "    ---\n",
    "    quantized: an array of shape num_trials which is quantized\n",
    "    \"\"\"\n",
    "    ### YOUR CODE HERE\n",
    "    ### TODO: Draw num_trials samples and find the quantized values \n",
    "    ### as well as the quantization error.\n",
    "    ### Hint: You may find np.random.exponential and np.floor useful.\n",
    "\n",
    "    quantized = ... # the quantized values (Y)\n",
    "    quantize_error = ... # the quantization error (Z)\n",
    "\n",
    "    return quantized, quantize_error"
   ]
  },
  {
   "cell_type": "markdown",
   "id": "1556bf1c",
   "metadata": {},
   "source": [
    "### 3.e. Plot\n",
    "Now, plot the empirical pmf and the empirical pdf (binned) of the quantized values and the error (Y and Z), respectively."
   ]
  },
  {
   "cell_type": "code",
   "execution_count": null,
   "id": "26b11da4",
   "metadata": {},
   "outputs": [],
   "source": [
    "## YOUR CODE HERE"
   ]
  },
  {
   "cell_type": "markdown",
   "id": "fed5b97d",
   "metadata": {},
   "source": [
    "## Problem 4"
   ]
  },
  {
   "cell_type": "markdown",
   "id": "19b23fc5",
   "metadata": {},
   "source": [
    "### 5.a. Plot on the same figure the pdf of $S$ for $\\alpha = 1$, $k = 0.1, 1, 2, 5$."
   ]
  },
  {
   "cell_type": "code",
   "execution_count": null,
   "id": "847cad5d",
   "metadata": {},
   "outputs": [],
   "source": [
    "def weibull_pdf(k, alpha, s_list):\n",
    "    \"\"\"\n",
    "    Returns the pdf of Weibull distribution\n",
    "\n",
    "    Parameters\n",
    "    ---\n",
    "    k (float): shape of Weibull distribution (k in problem set)\n",
    "    alpha (float): scale of Weibull distribution (alpha in problem set)\n",
    "    s_list (list): list of input s\n",
    "\n",
    "    Outputs\n",
    "    ---\n",
    "    pdf (list):  pdf of S with the given parameters\n",
    "    \"\"\"\n",
    "    ### YOUR CODE HERE\n",
    "    ### TODO: Evaluate the pdf of S evaluated at each point in s_list\n",
    "    \n",
    "    pdf = ...\n",
    "    \n",
    "    ### END YOUR CODE\n",
    "    return pdf"
   ]
  },
  {
   "cell_type": "markdown",
   "id": "7341e212",
   "metadata": {},
   "source": [
    "now plot the pdf of $S$ for $\\alpha = 1$, $k = 0.1, 1, 2, 5$."
   ]
  },
  {
   "cell_type": "code",
   "execution_count": null,
   "id": "6199f2aa",
   "metadata": {},
   "outputs": [],
   "source": [
    "### YOUR CODE HERE"
   ]
  },
  {
   "cell_type": "markdown",
   "id": "6697270c",
   "metadata": {},
   "source": [
    "## 5.b. Find the PDF of P"
   ]
  },
  {
   "cell_type": "code",
   "execution_count": null,
   "id": "75f161bd",
   "metadata": {},
   "outputs": [],
   "source": [
    "def power_pdf(k, alpha, a, t_list):\n",
    "    \"\"\" \n",
    "    Returns the pdf of wind power generation P\n",
    "\n",
    "    Parameters\n",
    "    ---\n",
    "    k (float): shape of Weibull distribution (k in problem set)\n",
    "    alpha (float): scale of Weibull distribution (alpha in problem set)\n",
    "    a (float): constant (a in problem set)\n",
    "    t_list (list): list of input t\n",
    "\n",
    "    Outputs\n",
    "    ---\n",
    "    pdf (list):  pdf of P with the given parameters\n",
    "    \"\"\"\n",
    "    ### YOUR CODE HERE\n",
    "    ### TODO: Evaluate the pdf of P evaluated at each point in t_list\n",
    "    \n",
    "    pdf = ...\n",
    "    \n",
    "    ### END YOUR CODE\n",
    "    return pdf"
   ]
  },
  {
   "cell_type": "markdown",
   "id": "48aeda9e",
   "metadata": {},
   "source": [
    "### 5.c. Using $a=0.008256$, $\\alpha=10.177$, $k=2.165$, plot the pdf of $P$.  "
   ]
  },
  {
   "cell_type": "code",
   "execution_count": null,
   "id": "03d0fc09",
   "metadata": {},
   "outputs": [],
   "source": [
    "### YOUR CODE HERE"
   ]
  },
  {
   "cell_type": "markdown",
   "id": "197ea28a",
   "metadata": {},
   "source": [
    "## Problem 5"
   ]
  },
  {
   "cell_type": "markdown",
   "id": "7ba5e5ef",
   "metadata": {},
   "source": [
    "### 6.b \n",
    "Generate 50,000 samples of random variables with uniform(0,1) distribution and apply the function of the previous part on them. Plot the result."
   ]
  },
  {
   "cell_type": "code",
   "execution_count": null,
   "id": "a25c6c7a",
   "metadata": {},
   "outputs": [],
   "source": [
    "### YOUR CODE HERE"
   ]
  },
  {
   "cell_type": "markdown",
   "id": "e0a5e086",
   "metadata": {},
   "source": [
    "### 6.c\n",
    "Generate 50,000 samples of random variables with Binomial distribution using the previous part distribution. Plot the result."
   ]
  },
  {
   "cell_type": "code",
   "execution_count": null,
   "id": "a01f4a65",
   "metadata": {},
   "outputs": [],
   "source": [
    "### YOUR CODE HERE"
   ]
  }
 ],
 "metadata": {
  "kernelspec": {
   "display_name": "Python 3 (ipykernel)",
   "language": "python",
   "name": "python3"
  },
  "language_info": {
   "codemirror_mode": {
    "name": "ipython",
    "version": 3
   },
   "file_extension": ".py",
   "mimetype": "text/x-python",
   "name": "python",
   "nbconvert_exporter": "python",
   "pygments_lexer": "ipython3",
   "version": "3.9.7"
  }
 },
 "nbformat": 4,
 "nbformat_minor": 5
}
